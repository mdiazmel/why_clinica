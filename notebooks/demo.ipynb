{
 "cells": [
  {
   "cell_type": "markdown",
   "id": "5068b643",
   "metadata": {
    "lines_to_next_cell": 0
   },
   "source": [
    "![clinica_logo](https://aramislab.paris.inria.fr/clinica/files/clinica_logo/Clinica_banner.png)\n",
    "# Processing medical images in a Clinical environment\n",
    "\n",
    "The traditional pipeline when working with images stores in a clinical PACS\n",
    "implies:\n",
    "\n",
    "- Connect to a XNAT database and request the images.\n",
    "- Convert images to NIfTI, and if possible to the BIDS format.\n",
    "- Process the images.\n",
    "\n",
    "This notebook illustrate these steps and it is intended to show how it can be\n",
    "simplified using [Clinica](https://www.clinica.run/).\n"
   ]
  },
  {
   "cell_type": "markdown",
   "id": "0f28ee7c",
   "metadata": {},
   "source": [
    "\n",
    "## Connect to a PACS, the XNAT central and download images.\n",
    "\n",
    "For this example we use [XNAT central](https://www.xnat.org) and its Python\n",
    "client to download the full images. For this example, we use images available\n",
    "[here](https://central.xnat.org/app/action/DisplayItemAction/search_element/xnat%3AprojectData/search_field/xnat%3AprojectData.ID/search_value/OlgaKotelko)"
   ]
  },
  {
   "cell_type": "code",
   "execution_count": null,
   "id": "9eee8b8c",
   "metadata": {
    "lines_to_next_cell": 0
   },
   "outputs": [],
   "source": [
    "import xnat\n",
    "\n",
    "session = xnat.connect(\n",
    "    \"https://central.xnat.org\",\n",
    "    user=\"a3f9ac32-ed38-450e-8498-4a3d34bc1915\",\n",
    "    password=\"pHTpVxZVcZ7cVX0xJ0KN0hJGbWD0OAlo6tg0ILNc7KMdNdNAucnXpgMX7RLePXRV\",\n",
    ")\n",
    "session.projects"
   ]
  },
  {
   "cell_type": "code",
   "execution_count": null,
   "id": "96ba4ca2",
   "metadata": {
    "lines_to_next_cell": 0
   },
   "outputs": [],
   "source": [
    "olga_kotelko_project = session.projects[\"OlgaKotelko\"]\n",
    "olga_kotelko_project.subjects"
   ]
  },
  {
   "cell_type": "markdown",
   "id": "daa0d189",
   "metadata": {},
   "source": [
    "Download images into a zip folder:"
   ]
  },
  {
   "cell_type": "code",
   "execution_count": null,
   "id": "a0467e11",
   "metadata": {
    "lines_to_next_cell": 0
   },
   "outputs": [],
   "source": [
    "len(olga_kotelko_project.subjects)\n",
    "experiment = olga_kotelko_project.experiments[\"AK_Mix_56_072412\"]\n",
    "# experiment = connection.create_object('/data/projects/$PROJECT_ID/experiments/$EXPERIMENT_ID')\n",
    "# experiment = session.create_object('/data/xnat_central/archive/OlgaKotelko/arc001/AK_Mix_56_072412/')"
   ]
  },
  {
   "cell_type": "code",
   "execution_count": null,
   "id": "5c0e5a52",
   "metadata": {
    "lines_to_next_cell": 0
   },
   "outputs": [],
   "source": [
    "experiment.scans[\"MPRAGE\"]\n",
    "experiment.scans[\"MPRAGE\"].download(\"./dataset/mprage.zip\")"
   ]
  },
  {
   "cell_type": "code",
   "execution_count": null,
   "id": "4102297b",
   "metadata": {
    "lines_to_next_cell": 0
   },
   "outputs": [],
   "source": [
    "session.disconnect()\n",
    "#"
   ]
  },
  {
   "cell_type": "markdown",
   "id": "1e95d8d5",
   "metadata": {
    "lines_to_next_cell": 0
   },
   "source": [
    "Uncompress and visualize images"
   ]
  },
  {
   "cell_type": "code",
   "execution_count": null,
   "id": "63c04360",
   "metadata": {
    "lines_to_next_cell": 0
   },
   "outputs": [],
   "source": [
    "# TODO"
   ]
  },
  {
   "cell_type": "markdown",
   "id": "7594275c",
   "metadata": {},
   "source": [
    "## Convert images to NIfTI "
   ]
  },
  {
   "cell_type": "markdown",
   "id": "3eb4854e",
   "metadata": {
    "lines_to_next_cell": 2
   },
   "source": [
    "## Process images\n",
    "- A Pydra example ? Defacing ?"
   ]
  }
 ],
 "metadata": {
  "jupytext": {
   "encoding": "# -*- coding: utf-8 -*-",
   "main_language": "python"
  },
  "kernelspec": {
   "display_name": "Python 3",
   "name": "python3"
  }
 },
 "nbformat": 4,
 "nbformat_minor": 5
}
